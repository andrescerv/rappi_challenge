{
 "cells": [
  {
   "cell_type": "markdown",
   "metadata": {},
   "source": [
    "# [1]\n",
    "\n",
    "We just launched the credit card to market. As you might be aware, everyone was extremely busy planning and developing the product, but no one thought of coming up nor monitoring the key performance indicators of the business."
   ]
  },
  {
   "cell_type": "markdown",
   "metadata": {},
   "source": [
    "**What would be the key performance indicators you would come up as the most important to monitor a credit card business?**\n",
    "\n",
    "Under the premise that we want to increase profit (sales - costs) we would have to track:\n",
    "i.\tSales and costs\n",
    "ii.\tAmong other things, sales can be translated to:\n",
    "1.\tAmount of users\n",
    "2.\tAverage credit per user\n",
    "3.\tAverage interest rate per user\n",
    "iii.\tAmong other things, costs can be translated to:\n",
    "1.\tCustomer Acquisition Cost (CAC)\n",
    "2.\tCustomer Retention Cost (CRC)\n",
    "3.\tLeads generated\n",
    "4.\tRate of approval/rejection from leads\n",
    "iv.\tAmount of users\n",
    "b.\tAmount of leads with credit approved/rejected\n",
    "c.\tDefault rate\n",
    "d.\tAverage "
   ]
  },
  {
   "cell_type": "markdown",
   "metadata": {},
   "source": [
    "**How often would you suggest such indicators must be monitored?**\n",
    "\n",
    "... should be monitored on weekly, biweekly, monthly, or quarterly basis.\n"
   ]
  },
  {
   "cell_type": "markdown",
   "metadata": {},
   "source": [
    "# [2]\n",
    "\n",
    "Dealing with diverse stakeholders is difficult. Where one might interpret a concept in a way, another one might differ from such interpretation. Let’s take for example the concept ‘dormant’: some stakeholders might interpret the dormant customer as one that has not done any transactions in 6 months, where another one might say it takes only 4 months to reach this state."
   ]
  },
  {
   "cell_type": "markdown",
   "metadata": {},
   "source": [
    "**Propose a problem resolution strategy with the stakeholders. How would you deal with this issue? Which facts would you present?**\n",
    "\n",
    "a.\tI would do an analysis on recency (days since last transaction). \n",
    "b.\tI would expect that the newly acquired users to have a lower recency so I would ignore these, since they can bias the analysis. From the remaining “old” users, I would track the recency of those users that have transacted within the last 12 months expecting the metric to behave like this:\n",
    "Then I would consider “dormant” users those with a recency that is above the, say, Q2 or Q3. \n"
   ]
  },
  {
   "cell_type": "markdown",
   "metadata": {},
   "source": [
    "# [3]\n",
    "\n",
    "It is a common practice to have many systems scattered all over: where one might be hosting the app, others might be hosting models needed for daily operations. This usually benefits usability over scalability. Nevertheless, data centralization is crucial for data exploitation. For simplicity, imagine there are 4 systems:\n",
    "- The first system hosts the app. It generates data that is stored in an internal database (ignore the database’s architecture for now). Every time the user interacts with a screen, clicks a button, or opens the app, this is stored as an event.\n",
    "- The second system hosts the risk model. Every time a customer asks for a credit, the system retrieves the risk data from the credit bureau and evaluates whether the customer is prone to be a defaulter.\n",
    "- The third system hosts the customers information. Here, unrestricted information is hosted. This database contains the name, address, email, etc…\n",
    "- Finally, the fourth and last system hosts all the payments information, this means, all the information related to the usage of the credit card: swipes, payments, recurrent payments, credit line, etc…\n",
    "\n",
    "All systems share a unique identifier for all of our customers. This is the key that allows data to be joined on other databases. "
   ]
  },
  {
   "cell_type": "markdown",
   "metadata": {},
   "source": [
    "**What should we do to centralize the data in order to display it in charts for KPI monitoring?**\n",
    "\n",
    "For data centralization, I would store these databases on the cloud. "
   ]
  },
  {
   "cell_type": "markdown",
   "metadata": {},
   "source": [
    "**What would you propose the data governance strategy should be?**\n",
    "\n",
    "I would only allow my senior Data Engineers to have full access to the four systems, and my junior Data Engineers full access to only some of the systems. The Data Engineering team would then be responsible to generate the requested tables by the Data Scientists, Data Analysts, and BI Analysts. This strategy ensures that only a few hands have access to our systems and these few hands are responsible of the data quality."
   ]
  }
 ],
 "metadata": {
  "kernelspec": {
   "display_name": "Python 3",
   "language": "python",
   "name": "python3"
  },
  "language_info": {
   "codemirror_mode": {
    "name": "ipython",
    "version": 3
   },
   "file_extension": ".py",
   "mimetype": "text/x-python",
   "name": "python",
   "nbconvert_exporter": "python",
   "pygments_lexer": "ipython3",
   "version": "3.8.5"
  }
 },
 "nbformat": 4,
 "nbformat_minor": 4
}
