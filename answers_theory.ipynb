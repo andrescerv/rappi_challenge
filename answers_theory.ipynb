{
 "cells": [
  {
   "cell_type": "markdown",
   "metadata": {},
   "source": [
    "# BUSINESS INTELLIGENCE / BUSINESS ANALYST, LEAD \n",
    "## BUSINESS CASE "
   ]
  },
  {
   "cell_type": "markdown",
   "metadata": {},
   "source": [
    "# [1]\n",
    "\n",
    "We just launched the credit card to market. As you might be aware, everyone was extremely busy planning and developing the product, but no one thought of coming up nor monitoring the key performance indicators of the business."
   ]
  },
  {
   "cell_type": "markdown",
   "metadata": {},
   "source": [
    "**What would be the key performance indicators you would come up as the most important to monitor a credit card business? How often would you suggest such indicators must be monitored?**\n",
    "\n",
    "Under the premise that we want to increase profit (sales - costs) we would have to track:\n",
    "\n",
    "1. To measure sales:\n",
    "    1. amount of users | monthly\n",
    "    1. avergage number of txns per user | monthly\n",
    "    1. average txn amount per user | monthly\n",
    "    1. averege interest rate per user | monthly\n",
    "    1. default rate | monthly\n",
    "    1. CAT | quarterly\n",
    "1. To measure costs:\n",
    "    1. average credit per user | quarterly\n",
    "    1. marketing costs | monthly\n",
    "        1. Customer Acquisition Cost (CAC) | quarterly\n",
    "            1. volume of leads generated | quarterly\n",
    "            1. credit approval rate | quarterly\n",
    "        1. Customer Retention Cost (CRC) | monthly\n",
    "            1. promos | monthly\n",
    "    1. manufacturing costs (plastics) | monthly\n",
    "    1. shipping costs | monthly\n",
    "1. other KPIs that have to be taken into account:\n",
    "    1. deafult rate | monthly\n",
    "\n",
    "Those metrics with a monthly periodicity are operative KPIs; those with quarterly periodicity are more strategic that should be high or should be low depending on the current business strategy."
   ]
  },
  {
   "cell_type": "markdown",
   "metadata": {},
   "source": [
    "# [2]\n",
    "\n",
    "Dealing with diverse stakeholders is difficult. Where one might interpret a concept in a way, another one might differ from such interpretation. Let’s take for example the concept ‘dormant’: some stakeholders might interpret the dormant customer as one that has not done any transactions in 6 months, where another one might say it takes only 4 months to reach this state."
   ]
  },
  {
   "cell_type": "markdown",
   "metadata": {},
   "source": [
    "**Propose a problem resolution strategy with the stakeholders. How would you deal with this issue? Which facts would you present?**\n",
    "\n",
    "I would convey an analysis on *recency* (days since last transaction). \n",
    "\n",
    "It is expected that the newly acquired users have a lower recency so these should be ignored since they can bias the analysis. Of the remaining “old” users, the recency of those users that have transacted within the last 12 months would be analyzed.\n",
    "\n",
    "Depending on our strategy (do want to be aggresive and burn money, or are we being more passive and priotizing cost efficiency?) we would take the n-th quantile and everything above it would be considered 'dormant'.\n",
    "\n",
    "**Example:**\n",
    "\n",
    "After the analysis we get that IQRanges for *recency* are:\n",
    "* q1 = 30 days\n",
    "* q2 = 100 days\n",
    "* q3 = 200 days\n",
    "\n",
    "Therefore, if our strategy is more bullyish we could consider users that haven't txned in the last 100 days are dormant and should be reactivated.\n",
    "\n",
    "If our strategy is more passive we could consider users that haven't txned in the last 200 days are dormant and should be reactivated."
   ]
  },
  {
   "cell_type": "markdown",
   "metadata": {},
   "source": [
    "# [3]\n",
    "\n",
    "It is a common practice to have many systems scattered all over: where one might be hosting the app, others might be hosting models needed for daily operations. This usually benefits usability over scalability. Nevertheless, data centralization is crucial for data exploitation. For simplicity, imagine there are 4 systems:\n",
    "- The first system hosts the app. It generates data that is stored in an internal database (ignore the database’s architecture for now). Every time the user interacts with a screen, clicks a button, or opens the app, this is stored as an event.\n",
    "- The second system hosts the risk model. Every time a customer asks for a credit, the system retrieves the risk data from the credit bureau and evaluates whether the customer is prone to be a defaulter.\n",
    "- The third system hosts the customers information. Here, unrestricted information is hosted. This database contains the name, address, email, etc…\n",
    "- Finally, the fourth and last system hosts all the payments information, this means, all the information related to the usage of the credit card: swipes, payments, recurrent payments, credit line, etc…\n",
    "\n",
    "All systems share a unique identifier for all of our customers. This is the key that allows data to be joined on other databases. "
   ]
  },
  {
   "cell_type": "markdown",
   "metadata": {},
   "source": [
    "**What should we do to centralize the data in order to display it in charts for KPI monitoring?**\n",
    "\n",
    "For data centralization, I would store these databases on the cloud. Then this could be migrated to other platforms with fair ease and you delegate some security to your cloud provider. Also, the data is accesible around the clock and can be streamlined into the KPI dashboards."
   ]
  },
  {
   "cell_type": "markdown",
   "metadata": {},
   "source": [
    "**What would you propose the data governance strategy should be?**\n",
    "\n",
    "I would only allow my senior Data Engineers to have full access to the four systems, and my junior Data Engineers full access to only some of the systems. The Data Engineering team would then be responsible to generate the requested tables by the Data Scientists, Data Analysts, and BI Analysts. This strategy ensures that only a few hands have access to our systems and these few hands are responsible of the data quality."
   ]
  }
 ],
 "metadata": {
  "kernelspec": {
   "display_name": "Python 3",
   "language": "python",
   "name": "python3"
  },
  "language_info": {
   "codemirror_mode": {
    "name": "ipython",
    "version": 3
   },
   "file_extension": ".py",
   "mimetype": "text/x-python",
   "name": "python",
   "nbconvert_exporter": "python",
   "pygments_lexer": "ipython3",
   "version": "3.8.5"
  }
 },
 "nbformat": 4,
 "nbformat_minor": 4
}
