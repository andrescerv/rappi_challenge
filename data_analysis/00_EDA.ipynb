{
 "cells": [
  {
   "cell_type": "markdown",
   "metadata": {},
   "source": [
    "# BUSINESS INTELLIGENCE / BUSINESS ANALYST, LEAD \n",
    "## BUSINESS CASE \n",
    "\n",
    "# [4]\n",
    "\n",
    "Download the attached .csv file. Preferably upload it to a SQL db and query your way through the challenge.\n",
    "\n",
    "YOUR TASK IS TO exploit the information contained in the aforementioned file as you \n",
    "find fit. Some things to take into consideration: \n",
    "\n",
    "#### [1] This database contains credit card information and transactions from multiple customers. Use your favorite data visualization tool / programming language to explore the data and present the results [R, Python, PowerBI, Spotfire, etc…]. The database has the following architecture: \n",
    "\n",
    "Where: \n",
    "* ID = This is the user’s unique identifier. \n",
    "* UPDATE = Date when the event happened. |\n",
    "* STATUS = The event, which can take the following values: \n",
    "    * EMPTY - The user did not respond to the communication OR there was a transaction (this is reflected in the TXN column). \n",
    "    * RESPONSE – The customer responded to the MKT campaign. \n",
    "    * RISK – The customer was checked on the risk model whether the customer is fit to get a credit or not. \n",
    "    * REJECTED – The risk model determined the customer is not fit to get a credit. \n",
    "    * APPROVED – The risk model determined the customer as fit to get a credit. The customer is granted a credit. Here some of the other columns are populated. \n",
    "    * DELIVERED – The customer received a physical credit card. \n",
    "* MOTIVE = The reason of rejection OR the type of card. \n",
    "* INTEREST_RATE = The interest rate of the customer’s credit card. \n",
    "* AMOUNT = The amount of the credit granted to the customer. \n",
    "* CAT = The annual cost of the credit granted to the customer. \n",
    "* TXN = The amount of each transaction for each customer. \n",
    "* CP = Zip Code where the physical credit card was delivered to. \n",
    "* DELIVERY_SCORE = A score the customer gives to the delivery company for the delivery service. \n",
    "\n",
    "Usually, the sign-up process starts when the customer responded to the \n",
    "communication, and ends-up with an approval, either with physical or digital card."
   ]
  },
  {
   "cell_type": "code",
   "execution_count": 1,
   "metadata": {},
   "outputs": [],
   "source": [
    "import numpy as np \n",
    "import pandas as pd\n",
    "import matplotlib.pyplot as plt\n",
    "import seaborn as sns\n",
    "\n",
    "df = pd.read_csv('data.csv', index_col=0, dtype={'CP':str})\n",
    "df.columns = df.columns.str.lower()\n",
    "df['update'] = pd.to_datetime(df['update'], format='%M:%S.%f').dt.time"
   ]
  },
  {
   "cell_type": "code",
   "execution_count": 2,
   "metadata": {},
   "outputs": [
    {
     "data": {
      "text/html": [
       "<div>\n",
       "<style scoped>\n",
       "    .dataframe tbody tr th:only-of-type {\n",
       "        vertical-align: middle;\n",
       "    }\n",
       "\n",
       "    .dataframe tbody tr th {\n",
       "        vertical-align: top;\n",
       "    }\n",
       "\n",
       "    .dataframe thead th {\n",
       "        text-align: right;\n",
       "    }\n",
       "</style>\n",
       "<table border=\"1\" class=\"dataframe\">\n",
       "  <thead>\n",
       "    <tr style=\"text-align: right;\">\n",
       "      <th></th>\n",
       "      <th>id</th>\n",
       "      <th>update</th>\n",
       "      <th>status</th>\n",
       "      <th>motive</th>\n",
       "      <th>interest_rate</th>\n",
       "      <th>amount</th>\n",
       "      <th>cat</th>\n",
       "      <th>txn</th>\n",
       "      <th>cp</th>\n",
       "      <th>delivery_score</th>\n",
       "    </tr>\n",
       "  </thead>\n",
       "  <tbody>\n",
       "    <tr>\n",
       "      <th>0</th>\n",
       "      <td>1</td>\n",
       "      <td>00:59:50.400000</td>\n",
       "      <td>RESPONSE</td>\n",
       "      <td>NaN</td>\n",
       "      <td>NaN</td>\n",
       "      <td>NaN</td>\n",
       "      <td>NaN</td>\n",
       "      <td>NaN</td>\n",
       "      <td>NaN</td>\n",
       "      <td>NaN</td>\n",
       "    </tr>\n",
       "    <tr>\n",
       "      <th>1</th>\n",
       "      <td>1</td>\n",
       "      <td>00:46:41.400000</td>\n",
       "      <td>RISK</td>\n",
       "      <td>NaN</td>\n",
       "      <td>NaN</td>\n",
       "      <td>NaN</td>\n",
       "      <td>NaN</td>\n",
       "      <td>NaN</td>\n",
       "      <td>NaN</td>\n",
       "      <td>NaN</td>\n",
       "    </tr>\n",
       "    <tr>\n",
       "      <th>2</th>\n",
       "      <td>1</td>\n",
       "      <td>00:14:50.500000</td>\n",
       "      <td>APPROVED</td>\n",
       "      <td>DIGITAL</td>\n",
       "      <td>40.0</td>\n",
       "      <td>1300.0</td>\n",
       "      <td>49.0</td>\n",
       "      <td>NaN</td>\n",
       "      <td>NaN</td>\n",
       "      <td>NaN</td>\n",
       "    </tr>\n",
       "    <tr>\n",
       "      <th>3</th>\n",
       "      <td>1</td>\n",
       "      <td>00:08:23.400000</td>\n",
       "      <td>NaN</td>\n",
       "      <td>NaN</td>\n",
       "      <td>NaN</td>\n",
       "      <td>NaN</td>\n",
       "      <td>NaN</td>\n",
       "      <td>434.112066</td>\n",
       "      <td>NaN</td>\n",
       "      <td>NaN</td>\n",
       "    </tr>\n",
       "    <tr>\n",
       "      <th>4</th>\n",
       "      <td>2</td>\n",
       "      <td>00:00:00</td>\n",
       "      <td>NaN</td>\n",
       "      <td>NaN</td>\n",
       "      <td>NaN</td>\n",
       "      <td>NaN</td>\n",
       "      <td>NaN</td>\n",
       "      <td>NaN</td>\n",
       "      <td>NaN</td>\n",
       "      <td>NaN</td>\n",
       "    </tr>\n",
       "    <tr>\n",
       "      <th>...</th>\n",
       "      <td>...</td>\n",
       "      <td>...</td>\n",
       "      <td>...</td>\n",
       "      <td>...</td>\n",
       "      <td>...</td>\n",
       "      <td>...</td>\n",
       "      <td>...</td>\n",
       "      <td>...</td>\n",
       "      <td>...</td>\n",
       "      <td>...</td>\n",
       "    </tr>\n",
       "    <tr>\n",
       "      <th>12751</th>\n",
       "      <td>4999</td>\n",
       "      <td>00:07:42.200000</td>\n",
       "      <td>NaN</td>\n",
       "      <td>NaN</td>\n",
       "      <td>NaN</td>\n",
       "      <td>NaN</td>\n",
       "      <td>NaN</td>\n",
       "      <td>31.104808</td>\n",
       "      <td>NaN</td>\n",
       "      <td>NaN</td>\n",
       "    </tr>\n",
       "    <tr>\n",
       "      <th>12752</th>\n",
       "      <td>4999</td>\n",
       "      <td>00:40:29.500000</td>\n",
       "      <td>NaN</td>\n",
       "      <td>NaN</td>\n",
       "      <td>NaN</td>\n",
       "      <td>NaN</td>\n",
       "      <td>NaN</td>\n",
       "      <td>74.732791</td>\n",
       "      <td>NaN</td>\n",
       "      <td>NaN</td>\n",
       "    </tr>\n",
       "    <tr>\n",
       "      <th>12753</th>\n",
       "      <td>4999</td>\n",
       "      <td>00:22:31.700000</td>\n",
       "      <td>NaN</td>\n",
       "      <td>NaN</td>\n",
       "      <td>NaN</td>\n",
       "      <td>NaN</td>\n",
       "      <td>NaN</td>\n",
       "      <td>35774.172720</td>\n",
       "      <td>NaN</td>\n",
       "      <td>NaN</td>\n",
       "    </tr>\n",
       "    <tr>\n",
       "      <th>12754</th>\n",
       "      <td>4999</td>\n",
       "      <td>00:27:19.800000</td>\n",
       "      <td>NaN</td>\n",
       "      <td>NaN</td>\n",
       "      <td>NaN</td>\n",
       "      <td>NaN</td>\n",
       "      <td>NaN</td>\n",
       "      <td>79.866598</td>\n",
       "      <td>NaN</td>\n",
       "      <td>NaN</td>\n",
       "    </tr>\n",
       "    <tr>\n",
       "      <th>12755</th>\n",
       "      <td>4999</td>\n",
       "      <td>00:43:01.800000</td>\n",
       "      <td>NaN</td>\n",
       "      <td>NaN</td>\n",
       "      <td>NaN</td>\n",
       "      <td>NaN</td>\n",
       "      <td>NaN</td>\n",
       "      <td>124.606009</td>\n",
       "      <td>NaN</td>\n",
       "      <td>NaN</td>\n",
       "    </tr>\n",
       "  </tbody>\n",
       "</table>\n",
       "<p>12756 rows × 10 columns</p>\n",
       "</div>"
      ],
      "text/plain": [
       "         id           update    status   motive  interest_rate  amount   cat  \\\n",
       "0         1  00:59:50.400000  RESPONSE      NaN            NaN     NaN   NaN   \n",
       "1         1  00:46:41.400000      RISK      NaN            NaN     NaN   NaN   \n",
       "2         1  00:14:50.500000  APPROVED  DIGITAL           40.0  1300.0  49.0   \n",
       "3         1  00:08:23.400000       NaN      NaN            NaN     NaN   NaN   \n",
       "4         2         00:00:00       NaN      NaN            NaN     NaN   NaN   \n",
       "...     ...              ...       ...      ...            ...     ...   ...   \n",
       "12751  4999  00:07:42.200000       NaN      NaN            NaN     NaN   NaN   \n",
       "12752  4999  00:40:29.500000       NaN      NaN            NaN     NaN   NaN   \n",
       "12753  4999  00:22:31.700000       NaN      NaN            NaN     NaN   NaN   \n",
       "12754  4999  00:27:19.800000       NaN      NaN            NaN     NaN   NaN   \n",
       "12755  4999  00:43:01.800000       NaN      NaN            NaN     NaN   NaN   \n",
       "\n",
       "                txn   cp  delivery_score  \n",
       "0               NaN  NaN             NaN  \n",
       "1               NaN  NaN             NaN  \n",
       "2               NaN  NaN             NaN  \n",
       "3        434.112066  NaN             NaN  \n",
       "4               NaN  NaN             NaN  \n",
       "...             ...  ...             ...  \n",
       "12751     31.104808  NaN             NaN  \n",
       "12752     74.732791  NaN             NaN  \n",
       "12753  35774.172720  NaN             NaN  \n",
       "12754     79.866598  NaN             NaN  \n",
       "12755    124.606009  NaN             NaN  \n",
       "\n",
       "[12756 rows x 10 columns]"
      ]
     },
     "execution_count": 2,
     "metadata": {},
     "output_type": "execute_result"
    }
   ],
   "source": [
    "df"
   ]
  },
  {
   "cell_type": "code",
   "execution_count": 3,
   "metadata": {},
   "outputs": [
    {
     "data": {
      "text/plain": [
       "id                  int64\n",
       "update             object\n",
       "status             object\n",
       "motive             object\n",
       "interest_rate     float64\n",
       "amount            float64\n",
       "cat               float64\n",
       "txn               float64\n",
       "cp                 object\n",
       "delivery_score    float64\n",
       "dtype: object"
      ]
     },
     "execution_count": 3,
     "metadata": {},
     "output_type": "execute_result"
    }
   ],
   "source": [
    "df.dtypes"
   ]
  },
  {
   "cell_type": "code",
   "execution_count": 4,
   "metadata": {},
   "outputs": [
    {
     "data": {
      "text/html": [
       "<div>\n",
       "<style scoped>\n",
       "    .dataframe tbody tr th:only-of-type {\n",
       "        vertical-align: middle;\n",
       "    }\n",
       "\n",
       "    .dataframe tbody tr th {\n",
       "        vertical-align: top;\n",
       "    }\n",
       "\n",
       "    .dataframe thead th {\n",
       "        text-align: right;\n",
       "    }\n",
       "</style>\n",
       "<table border=\"1\" class=\"dataframe\">\n",
       "  <thead>\n",
       "    <tr style=\"text-align: right;\">\n",
       "      <th></th>\n",
       "      <th>id</th>\n",
       "      <th>interest_rate</th>\n",
       "      <th>amount</th>\n",
       "      <th>cat</th>\n",
       "      <th>txn</th>\n",
       "      <th>delivery_score</th>\n",
       "    </tr>\n",
       "  </thead>\n",
       "  <tbody>\n",
       "    <tr>\n",
       "      <th>count</th>\n",
       "      <td>12756.000000</td>\n",
       "      <td>1505.000000</td>\n",
       "      <td>1505.000000</td>\n",
       "      <td>1505.000000</td>\n",
       "      <td>3773.000000</td>\n",
       "      <td>1046.000000</td>\n",
       "    </tr>\n",
       "    <tr>\n",
       "      <th>mean</th>\n",
       "      <td>2516.923330</td>\n",
       "      <td>39.695681</td>\n",
       "      <td>14479.800664</td>\n",
       "      <td>39.663787</td>\n",
       "      <td>2009.774234</td>\n",
       "      <td>1.964627</td>\n",
       "    </tr>\n",
       "    <tr>\n",
       "      <th>std</th>\n",
       "      <td>1465.606943</td>\n",
       "      <td>5.924762</td>\n",
       "      <td>14520.262941</td>\n",
       "      <td>5.751843</td>\n",
       "      <td>10034.936766</td>\n",
       "      <td>1.116938</td>\n",
       "    </tr>\n",
       "    <tr>\n",
       "      <th>min</th>\n",
       "      <td>1.000000</td>\n",
       "      <td>30.000000</td>\n",
       "      <td>0.000000</td>\n",
       "      <td>30.000000</td>\n",
       "      <td>0.342075</td>\n",
       "      <td>0.000000</td>\n",
       "    </tr>\n",
       "    <tr>\n",
       "      <th>25%</th>\n",
       "      <td>1204.000000</td>\n",
       "      <td>35.000000</td>\n",
       "      <td>3800.000000</td>\n",
       "      <td>35.000000</td>\n",
       "      <td>67.888982</td>\n",
       "      <td>1.000000</td>\n",
       "    </tr>\n",
       "    <tr>\n",
       "      <th>50%</th>\n",
       "      <td>2571.000000</td>\n",
       "      <td>40.000000</td>\n",
       "      <td>9800.000000</td>\n",
       "      <td>40.000000</td>\n",
       "      <td>265.086727</td>\n",
       "      <td>2.000000</td>\n",
       "    </tr>\n",
       "    <tr>\n",
       "      <th>75%</th>\n",
       "      <td>3801.000000</td>\n",
       "      <td>45.000000</td>\n",
       "      <td>20100.000000</td>\n",
       "      <td>45.000000</td>\n",
       "      <td>1061.080947</td>\n",
       "      <td>3.000000</td>\n",
       "    </tr>\n",
       "    <tr>\n",
       "      <th>max</th>\n",
       "      <td>4999.000000</td>\n",
       "      <td>49.000000</td>\n",
       "      <td>108300.000000</td>\n",
       "      <td>49.000000</td>\n",
       "      <td>412498.523200</td>\n",
       "      <td>5.000000</td>\n",
       "    </tr>\n",
       "  </tbody>\n",
       "</table>\n",
       "</div>"
      ],
      "text/plain": [
       "                 id  interest_rate         amount          cat            txn  \\\n",
       "count  12756.000000    1505.000000    1505.000000  1505.000000    3773.000000   \n",
       "mean    2516.923330      39.695681   14479.800664    39.663787    2009.774234   \n",
       "std     1465.606943       5.924762   14520.262941     5.751843   10034.936766   \n",
       "min        1.000000      30.000000       0.000000    30.000000       0.342075   \n",
       "25%     1204.000000      35.000000    3800.000000    35.000000      67.888982   \n",
       "50%     2571.000000      40.000000    9800.000000    40.000000     265.086727   \n",
       "75%     3801.000000      45.000000   20100.000000    45.000000    1061.080947   \n",
       "max     4999.000000      49.000000  108300.000000    49.000000  412498.523200   \n",
       "\n",
       "       delivery_score  \n",
       "count     1046.000000  \n",
       "mean         1.964627  \n",
       "std          1.116938  \n",
       "min          0.000000  \n",
       "25%          1.000000  \n",
       "50%          2.000000  \n",
       "75%          3.000000  \n",
       "max          5.000000  "
      ]
     },
     "execution_count": 4,
     "metadata": {},
     "output_type": "execute_result"
    }
   ],
   "source": [
    "df.describe()"
   ]
  },
  {
   "cell_type": "code",
   "execution_count": 5,
   "metadata": {},
   "outputs": [
    {
     "data": {
      "text/html": [
       "<div>\n",
       "<style scoped>\n",
       "    .dataframe tbody tr th:only-of-type {\n",
       "        vertical-align: middle;\n",
       "    }\n",
       "\n",
       "    .dataframe tbody tr th {\n",
       "        vertical-align: top;\n",
       "    }\n",
       "\n",
       "    .dataframe thead th {\n",
       "        text-align: right;\n",
       "    }\n",
       "</style>\n",
       "<table border=\"1\" class=\"dataframe\">\n",
       "  <thead>\n",
       "    <tr style=\"text-align: right;\">\n",
       "      <th></th>\n",
       "      <th>quantile</th>\n",
       "      <th>amount</th>\n",
       "    </tr>\n",
       "  </thead>\n",
       "  <tbody>\n",
       "    <tr>\n",
       "      <th>0</th>\n",
       "      <td>0.10</td>\n",
       "      <td>1540.0</td>\n",
       "    </tr>\n",
       "    <tr>\n",
       "      <th>1</th>\n",
       "      <td>0.20</td>\n",
       "      <td>2980.0</td>\n",
       "    </tr>\n",
       "    <tr>\n",
       "      <th>2</th>\n",
       "      <td>0.25</td>\n",
       "      <td>3800.0</td>\n",
       "    </tr>\n",
       "    <tr>\n",
       "      <th>3</th>\n",
       "      <td>0.50</td>\n",
       "      <td>9800.0</td>\n",
       "    </tr>\n",
       "    <tr>\n",
       "      <th>4</th>\n",
       "      <td>0.75</td>\n",
       "      <td>20100.0</td>\n",
       "    </tr>\n",
       "    <tr>\n",
       "      <th>5</th>\n",
       "      <td>0.80</td>\n",
       "      <td>23840.0</td>\n",
       "    </tr>\n",
       "    <tr>\n",
       "      <th>6</th>\n",
       "      <td>0.90</td>\n",
       "      <td>34360.0</td>\n",
       "    </tr>\n",
       "  </tbody>\n",
       "</table>\n",
       "</div>"
      ],
      "text/plain": [
       "   quantile   amount\n",
       "0      0.10   1540.0\n",
       "1      0.20   2980.0\n",
       "2      0.25   3800.0\n",
       "3      0.50   9800.0\n",
       "4      0.75  20100.0\n",
       "5      0.80  23840.0\n",
       "6      0.90  34360.0"
      ]
     },
     "execution_count": 5,
     "metadata": {},
     "output_type": "execute_result"
    }
   ],
   "source": [
    "df['amount'].quantile([0.10,0.20,0.25,0.50,0.75,0.80,0.90]).reset_index().rename(columns={'index':'quantile'})"
   ]
  },
  {
   "cell_type": "markdown",
   "metadata": {},
   "source": [
    "# STATUS"
   ]
  },
  {
   "cell_type": "code",
   "execution_count": 6,
   "metadata": {},
   "outputs": [
    {
     "data": {
      "image/png": "[encoded data removed]",
      "text/plain": [
       "<Figure size 432x288 with 1 Axes>"
      ]
     },
     "metadata": {
      "needs_background": "light"
     },
     "output_type": "display_data"
    }
   ],
   "source": [
    "g = sns.countplot(x=\"status\", data=df)\n",
    "g.set_xticklabels(g.get_xticklabels(), rotation = 30)\n",
    "\n",
    "None"
   ]
  },
  {
   "cell_type": "markdown",
   "metadata": {},
   "source": [
    "# MOTIVE (reason of rejection OR the type of card)"
   ]
  },
  {
   "cell_type": "code",
   "execution_count": 7,
   "metadata": {},
   "outputs": [
    {
     "data": {
      "image/png": "[encoded data removed]",
      "text/plain": [
       "<Figure size 432x288 with 1 Axes>"
      ]
     },
     "metadata": {
      "needs_background": "light"
     },
     "output_type": "display_data"
    }
   ],
   "source": [
    "sns.countplot(x=\"motive\", data=df[df.motive.isin(['USAGE','MOP','INCOME','EMPTY'])])\n",
    "None"
   ]
  },
  {
   "cell_type": "code",
   "execution_count": 8,
   "metadata": {},
   "outputs": [
    {
     "data": {
      "image/png": "[encoded data removed]",
      "text/plain": [
       "<Figure size 432x288 with 1 Axes>"
      ]
     },
     "metadata": {
      "needs_background": "light"
     },
     "output_type": "display_data"
    }
   ],
   "source": [
    "sns.countplot(x=\"motive\", data=df[df.motive.isin(['DIGITAL','PLASTIC'])])\n",
    "None"
   ]
  },
  {
   "cell_type": "markdown",
   "metadata": {},
   "source": [
    "# INTEREST RATE"
   ]
  },
  {
   "cell_type": "code",
   "execution_count": 9,
   "metadata": {},
   "outputs": [
    {
     "data": {
      "image/png": "[encoded data removed]",
      "text/plain": [
       "<Figure size 432x288 with 1 Axes>"
      ]
     },
     "metadata": {
      "needs_background": "light"
     },
     "output_type": "display_data"
    }
   ],
   "source": [
    "g = sns.histplot(data=df, x=\"interest_rate\", discrete=True, kde=True)\n",
    "\n",
    "g.set_xticks(range(30,50))\n",
    "g.set_xticklabels(range(30,50))\n",
    "\n",
    "None\n",
    "# For practical purposes the interest rate can be considered to have an uniform distribution (maybe bimodal)\n",
    "\n",
    "fig = g.get_figure()\n",
    "fig.savefig('images/irate.png') "
   ]
  },
  {
   "cell_type": "markdown",
   "metadata": {},
   "source": [
    "# AMOUNT"
   ]
  },
  {
   "cell_type": "code",
   "execution_count": 10,
   "metadata": {},
   "outputs": [
    {
     "data": {
      "image/png": "[encoded data removed]",
      "text/plain": [
       "<Figure size 432x288 with 1 Axes>"
      ]
     },
     "metadata": {
      "needs_background": "light"
     },
     "output_type": "display_data"
    }
   ],
   "source": [
    "g = sns.histplot(data=df[df['amount'] > 0], x=\"amount\", log_scale=True)\n",
    "None\n",
    "# the most popular 'amounts' are between $10,000 and $12,000\n",
    "\n",
    "fig = g.get_figure()\n",
    "fig.savefig('images/amount_hist.png')"
   ]
  },
  {
   "cell_type": "code",
   "execution_count": 11,
   "metadata": {},
   "outputs": [
    {
     "data": {
      "image/png": "[encoded data removed]",
      "text/plain": [
       "<Figure size 432x288 with 1 Axes>"
      ]
     },
     "metadata": {
      "needs_background": "light"
     },
     "output_type": "display_data"
    }
   ],
   "source": [
    "g = sns.ecdfplot(data=df, x=\"amount\")\n",
    "\n",
    "g.set_xscale('log')\n",
    "None\n",
    "# 80% of hour clients have a credit of $20,000 or lower\n",
    "\n",
    "fig = g.get_figure()\n",
    "fig.savefig('images/amount_ecdf.png') "
   ]
  },
  {
   "cell_type": "markdown",
   "metadata": {},
   "source": [
    "# CAT"
   ]
  },
  {
   "cell_type": "code",
   "execution_count": 12,
   "metadata": {},
   "outputs": [
    {
     "data": {
      "image/png": "[encoded data removed]",
      "text/plain": [
       "<Figure size 432x288 with 1 Axes>"
      ]
     },
     "metadata": {
      "needs_background": "light"
     },
     "output_type": "display_data"
    }
   ],
   "source": [
    "g = sns.histplot(data=df, x=\"cat\", discrete=True, kde=True)\n",
    "\n",
    "g.set_xticks(range(30,50))\n",
    "g.set_xticklabels(range(30,50))\n",
    "None\n",
    "\n",
    "fig = g.get_figure()\n",
    "fig.savefig('images/cat.png') "
   ]
  },
  {
   "cell_type": "markdown",
   "metadata": {},
   "source": [
    "# TXN"
   ]
  },
  {
   "cell_type": "code",
   "execution_count": 13,
   "metadata": {},
   "outputs": [
    {
     "data": {
      "image/png": "[encoded data removed]",
      "text/plain": [
       "<Figure size 432x288 with 1 Axes>"
      ]
     },
     "metadata": {
      "needs_background": "light"
     },
     "output_type": "display_data"
    }
   ],
   "source": [
    "sns.histplot(data=df, x=\"txn\", log_scale=True)\n",
    "None\n",
    "# 'txn' has a log-normal distribution with the vast majority of txns being between $100 and $1,000."
   ]
  },
  {
   "cell_type": "markdown",
   "metadata": {},
   "source": [
    "# CP"
   ]
  },
  {
   "cell_type": "code",
   "execution_count": 14,
   "metadata": {},
   "outputs": [
    {
     "data": {
      "text/plain": [
       "53100    321\n",
       "44100    298\n",
       "11560    215\n",
       "64000    109\n",
       "44620    103\n",
       "Name: cp, dtype: int64"
      ]
     },
     "execution_count": 14,
     "metadata": {},
     "output_type": "execute_result"
    }
   ],
   "source": [
    "df.cp.value_counts() # we only observe 5 zip-codes\n",
    "\n",
    "# zip_code, count, location, state\n",
    "# 53100, 321, Naucalpan, EdoMex\n",
    "# 44100, 298, Guadalajara Centro, Jalisco\n",
    "# 11560, 215, Polanco III sección, CDMX\n",
    "# 64000, 109, Centro, Monterrey\n",
    "# 44620, 103, Colomos Providencia Guadalajara, Jalisco"
   ]
  },
  {
   "cell_type": "code",
   "execution_count": 15,
   "metadata": {},
   "outputs": [
    {
     "data": {
      "image/png": "[encoded data removed]",
      "text/plain": [
       "<Figure size 432x288 with 1 Axes>"
      ]
     },
     "metadata": {
      "needs_background": "light"
     },
     "output_type": "display_data"
    }
   ],
   "source": [
    "sns.countplot(x=\"cp\", data=df)\n",
    "None"
   ]
  },
  {
   "cell_type": "markdown",
   "metadata": {},
   "source": [
    "# DELIVERY_SCORE"
   ]
  },
  {
   "cell_type": "code",
   "execution_count": 16,
   "metadata": {},
   "outputs": [
    {
     "data": {
      "image/png": "[encoded data removed]",
      "text/plain": [
       "<Figure size 432x288 with 1 Axes>"
      ]
     },
     "metadata": {
      "needs_background": "light"
     },
     "output_type": "display_data"
    }
   ],
   "source": [
    "sns.histplot(data=df, x=\"delivery_score\", discrete=True)\n",
    "None"
   ]
  },
  {
   "cell_type": "code",
   "execution_count": null,
   "metadata": {},
   "outputs": [],
   "source": []
  }
 ],
 "metadata": {
  "kernelspec": {
   "display_name": "Python 3",
   "language": "python",
   "name": "python3"
  },
  "language_info": {
   "codemirror_mode": {
    "name": "ipython",
    "version": 3
   },
   "file_extension": ".py",
   "mimetype": "text/x-python",
   "name": "python",
   "nbconvert_exporter": "python",
   "pygments_lexer": "ipython3",
   "version": "3.8.5"
  }
 },
 "nbformat": 4,
 "nbformat_minor": 4
}
